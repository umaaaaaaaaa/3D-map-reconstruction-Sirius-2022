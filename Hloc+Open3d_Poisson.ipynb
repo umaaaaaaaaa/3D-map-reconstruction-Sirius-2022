{
  "cells": [
    {
      "cell_type": "code",
      "execution_count": 1,
      "metadata": {
        "colab": {
          "base_uri": "https://localhost:8080/"
        },
        "id": "CeL5x1beYrtX",
        "outputId": "3c54132e-fc49-4ff4-81f1-159a1c286502"
      },
      "outputs": [
        {
          "output_type": "stream",
          "name": "stdout",
          "text": [
            "/content/Hierarchical-Localization\n",
            "Looking in indexes: https://pypi.org/simple, https://us-python.pkg.dev/colab-wheels/public/simple/\n",
            "Obtaining file:///content/Hierarchical-Localization\n",
            "Requirement already satisfied: torch>=1.1 in /usr/local/lib/python3.7/dist-packages (from hloc==1.3) (1.12.1+cu113)\n",
            "Requirement already satisfied: torchvision>=0.3 in /usr/local/lib/python3.7/dist-packages (from hloc==1.3) (0.13.1+cu113)\n",
            "Requirement already satisfied: numpy in /usr/local/lib/python3.7/dist-packages (from hloc==1.3) (1.21.6)\n",
            "Requirement already satisfied: opencv-python in /usr/local/lib/python3.7/dist-packages (from hloc==1.3) (4.6.0.66)\n",
            "Requirement already satisfied: tqdm>=4.36.0 in /usr/local/lib/python3.7/dist-packages (from hloc==1.3) (4.64.0)\n",
            "Requirement already satisfied: matplotlib in /usr/local/lib/python3.7/dist-packages (from hloc==1.3) (3.2.2)\n",
            "Requirement already satisfied: plotly in /usr/local/lib/python3.7/dist-packages (from hloc==1.3) (5.5.0)\n",
            "Requirement already satisfied: scipy in /usr/local/lib/python3.7/dist-packages (from hloc==1.3) (1.7.3)\n",
            "Requirement already satisfied: h5py in /usr/local/lib/python3.7/dist-packages (from hloc==1.3) (3.1.0)\n",
            "Collecting pycolmap>=0.3.0\n",
            "  Downloading pycolmap-0.3.0-cp37-cp37m-manylinux2014_x86_64.whl (12.7 MB)\n",
            "\u001b[K     |████████████████████████████████| 12.7 MB 6.1 MB/s \n",
            "\u001b[?25hCollecting kornia>=0.6.4\n",
            "  Downloading kornia-0.6.7-py2.py3-none-any.whl (565 kB)\n",
            "\u001b[K     |████████████████████████████████| 565 kB 66.7 MB/s \n",
            "\u001b[?25hRequirement already satisfied: gdown in /usr/local/lib/python3.7/dist-packages (from hloc==1.3) (4.4.0)\n",
            "Requirement already satisfied: packaging in /usr/local/lib/python3.7/dist-packages (from kornia>=0.6.4->hloc==1.3) (21.3)\n",
            "Requirement already satisfied: typing-extensions in /usr/local/lib/python3.7/dist-packages (from torch>=1.1->hloc==1.3) (4.1.1)\n",
            "Requirement already satisfied: pillow!=8.3.*,>=5.3.0 in /usr/local/lib/python3.7/dist-packages (from torchvision>=0.3->hloc==1.3) (7.1.2)\n",
            "Requirement already satisfied: requests in /usr/local/lib/python3.7/dist-packages (from torchvision>=0.3->hloc==1.3) (2.23.0)\n",
            "Requirement already satisfied: six in /usr/local/lib/python3.7/dist-packages (from gdown->hloc==1.3) (1.15.0)\n",
            "Requirement already satisfied: filelock in /usr/local/lib/python3.7/dist-packages (from gdown->hloc==1.3) (3.8.0)\n",
            "Requirement already satisfied: beautifulsoup4 in /usr/local/lib/python3.7/dist-packages (from gdown->hloc==1.3) (4.6.3)\n",
            "Requirement already satisfied: cached-property in /usr/local/lib/python3.7/dist-packages (from h5py->hloc==1.3) (1.5.2)\n",
            "Requirement already satisfied: cycler>=0.10 in /usr/local/lib/python3.7/dist-packages (from matplotlib->hloc==1.3) (0.11.0)\n",
            "Requirement already satisfied: kiwisolver>=1.0.1 in /usr/local/lib/python3.7/dist-packages (from matplotlib->hloc==1.3) (1.4.4)\n",
            "Requirement already satisfied: python-dateutil>=2.1 in /usr/local/lib/python3.7/dist-packages (from matplotlib->hloc==1.3) (2.8.2)\n",
            "Requirement already satisfied: pyparsing!=2.0.4,!=2.1.2,!=2.1.6,>=2.0.1 in /usr/local/lib/python3.7/dist-packages (from matplotlib->hloc==1.3) (3.0.9)\n",
            "Requirement already satisfied: tenacity>=6.2.0 in /usr/local/lib/python3.7/dist-packages (from plotly->hloc==1.3) (8.0.1)\n",
            "Requirement already satisfied: urllib3!=1.25.0,!=1.25.1,<1.26,>=1.21.1 in /usr/local/lib/python3.7/dist-packages (from requests->torchvision>=0.3->hloc==1.3) (1.24.3)\n",
            "Requirement already satisfied: chardet<4,>=3.0.2 in /usr/local/lib/python3.7/dist-packages (from requests->torchvision>=0.3->hloc==1.3) (3.0.4)\n",
            "Requirement already satisfied: idna<3,>=2.5 in /usr/local/lib/python3.7/dist-packages (from requests->torchvision>=0.3->hloc==1.3) (2.10)\n",
            "Requirement already satisfied: certifi>=2017.4.17 in /usr/local/lib/python3.7/dist-packages (from requests->torchvision>=0.3->hloc==1.3) (2022.6.15)\n",
            "Requirement already satisfied: PySocks!=1.5.7,>=1.5.6 in /usr/local/lib/python3.7/dist-packages (from requests->torchvision>=0.3->hloc==1.3) (1.7.1)\n",
            "Installing collected packages: pycolmap, kornia, hloc\n",
            "  Running setup.py develop for hloc\n",
            "Successfully installed hloc-1.3 kornia-0.6.7 pycolmap-0.3.0\n",
            "\u001b[K     |████████████████████████████████| 15.2 MB 6.8 MB/s \n",
            "\u001b[?25h"
          ]
        }
      ],
      "source": [
        "!git clone --quiet --recursive https://github.com/cvg/Hierarchical-Localization/\n",
        "%cd /content/Hierarchical-Localization\n",
        "!pip install -e .\n",
        "!pip install --upgrade --quiet plotly\n",
        "\n",
        "import tqdm, tqdm.notebook\n",
        "tqdm.tqdm = tqdm.notebook.tqdm \n",
        "from pathlib import Path\n",
        "\n",
        "from hloc import extract_features, match_features, reconstruction, visualization, pairs_from_exhaustive\n",
        "from hloc.visualization import plot_images, read_image\n",
        "from hloc.utils import viz_3d"
      ],
      "id": "CeL5x1beYrtX"
    },
    {
      "cell_type": "markdown",
      "metadata": {
        "id": "lC6riwTcELBM"
      },
      "source": [
        "# Video to frames"
      ],
      "id": "lC6riwTcELBM"
    },
    {
      "cell_type": "code",
      "execution_count": 2,
      "metadata": {
        "colab": {
          "base_uri": "https://localhost:8080/"
        },
        "id": "DgyP8aIzNHLs",
        "outputId": "ab1de413-2145-4bdf-f5e2-dbd782c325a1"
      },
      "outputs": [
        {
          "output_type": "stream",
          "name": "stdout",
          "text": [
            "Looking in indexes: https://pypi.org/simple, https://us-python.pkg.dev/colab-wheels/public/simple/\n",
            "Collecting youtube-dl\n",
            "  Downloading youtube_dl-2021.12.17-py2.py3-none-any.whl (1.9 MB)\n",
            "\u001b[K     |████████████████████████████████| 1.9 MB 7.3 MB/s \n",
            "\u001b[?25hInstalling collected packages: youtube-dl\n",
            "Successfully installed youtube-dl-2021.12.17\n"
          ]
        }
      ],
      "source": [
        "!pip install youtube-dl"
      ],
      "id": "DgyP8aIzNHLs"
    },
    {
      "cell_type": "code",
      "execution_count": null,
      "metadata": {
        "id": "McvS_eVnLXoU"
      },
      "outputs": [],
      "source": [
        "# # Next, we cut out part of the youtube video\n",
        "# !ffmpeg -i $(youtube-dl -f 18 --get-url https://www.youtube.com/watch?v=_y3MAH65Cfg&t=115s) \\\n",
        "# -ss 00:02:00 -t 00:02:20 -c:v copy -c:a copy\\\n",
        "# data.mp4"
      ],
      "id": "McvS_eVnLXoU"
    },
    {
      "cell_type": "code",
      "source": [
        "!ffmpeg -ss 00:00:41 -i $(youtube-dl -f 136 --get-url https://www.youtube.com/watch?v=Mq8LFUyvBrM&t=41s) -t 10 -c:v libx264 -c:a copy data.mp4"
      ],
      "metadata": {
        "colab": {
          "base_uri": "https://localhost:8080/"
        },
        "id": "k8zRS2bFwPnJ",
        "outputId": "39b7b59e-c8e2-460b-90f3-bea7ec12057d"
      },
      "id": "k8zRS2bFwPnJ",
      "execution_count": 3,
      "outputs": [
        {
          "output_type": "stream",
          "name": "stdout",
          "text": [
            "ffmpeg version 3.4.11-0ubuntu0.1 Copyright (c) 2000-2022 the FFmpeg developers\n",
            "  built with gcc 7 (Ubuntu 7.5.0-3ubuntu1~18.04)\n",
            "  configuration: --prefix=/usr --extra-version=0ubuntu0.1 --toolchain=hardened --libdir=/usr/lib/x86_64-linux-gnu --incdir=/usr/include/x86_64-linux-gnu --enable-gpl --disable-stripping --enable-avresample --enable-avisynth --enable-gnutls --enable-ladspa --enable-libass --enable-libbluray --enable-libbs2b --enable-libcaca --enable-libcdio --enable-libflite --enable-libfontconfig --enable-libfreetype --enable-libfribidi --enable-libgme --enable-libgsm --enable-libmp3lame --enable-libmysofa --enable-libopenjpeg --enable-libopenmpt --enable-libopus --enable-libpulse --enable-librubberband --enable-librsvg --enable-libshine --enable-libsnappy --enable-libsoxr --enable-libspeex --enable-libssh --enable-libtheora --enable-libtwolame --enable-libvorbis --enable-libvpx --enable-libwavpack --enable-libwebp --enable-libx265 --enable-libxml2 --enable-libxvid --enable-libzmq --enable-libzvbi --enable-omx --enable-openal --enable-opengl --enable-sdl2 --enable-libdc1394 --enable-libdrm --enable-libiec61883 --enable-chromaprint --enable-frei0r --enable-libopencv --enable-libx264 --enable-shared\n",
            "  libavutil      55. 78.100 / 55. 78.100\n",
            "  libavcodec     57.107.100 / 57.107.100\n",
            "  libavformat    57. 83.100 / 57. 83.100\n",
            "  libavdevice    57. 10.100 / 57. 10.100\n",
            "  libavfilter     6.107.100 /  6.107.100\n",
            "  libavresample   3.  7.  0 /  3.  7.  0\n",
            "  libswscale      4.  8.100 /  4.  8.100\n",
            "  libswresample   2.  9.100 /  2.  9.100\n",
            "  libpostproc    54.  7.100 / 54.  7.100\n",
            "Input #0, mov,mp4,m4a,3gp,3g2,mj2, from 'https://rr4---sn-qxo7rn7e.googlevideo.com/videoplayback?expire=1662860963&ei=Q-ocY4zjBMbZkgag5aqYCg&ip=34.105.21.184&id=o-AFlGOz_UICijvC8JziiQOGkNAOrXejZZIMXs-geFYBiB&itag=136&aitags=133%2C134%2C135%2C136%2C137%2C160%2C242%2C243%2C244%2C247%2C248%2C278&source=youtube&requiressl=yes&mh=l9&mm=31%2C26&mn=sn-qxo7rn7e%2Csn-5goeenes&ms=au%2Conr&mv=u&mvi=4&pl=20&vprv=1&mime=video%2Fmp4&ns=rWw_1_qKso0bNCMIE6taQPsH&gir=yes&clen=20162086&dur=140.974&lmt=1471491537963256&mt=1662838941&fvip=3&keepalive=yes&fexp=24001373%2C24007246&c=WEB&rbqsm=fr&n=O2L1DK3_aKVbPvgZhI&sparams=expire%2Cei%2Cip%2Cid%2Caitags%2Csource%2Crequiressl%2Cvprv%2Cmime%2Cns%2Cgir%2Cclen%2Cdur%2Clmt&sig=AOq0QJ8wRQIgcaz0e8djFwVxFw3vBBRC-IbL1WjO66Vuzlo2OY00rDkCIQCOKlpuc625OLtDOsF3QpkccZUrc55tQC7NzhzfVfg8VQ%3D%3D&lsparams=mh%2Cmm%2Cmn%2Cms%2Cmv%2Cmvi%2Cpl&lsig=AG3C_xAwRQIhAMAAnTScsJv7azcdVAPLQOdgsaLIjZilfdMWctoqL2kBAiB_5CVoiue2ol3By58FEYeG543kriUFBgTxk6E6vOamAg%3D%3D':\n",
            "  Metadata:\n",
            "    major_brand     : dash\n",
            "    minor_version   : 0\n",
            "    compatible_brands: iso6avc1mp41\n",
            "    creation_time   : 2016-08-18T03:38:57.000000Z\n",
            "  Duration: 00:02:20.97, start: 0.000000, bitrate: 1144 kb/s\n",
            "    Stream #0:0(und): Video: h264 (Main) (avc1 / 0x31637661), yuv420p(tv, bt709, progressive), 1280x720 [SAR 1:1 DAR 16:9], 36 kb/s, 29.97 fps, 29.97 tbr, 90k tbn, 59.94 tbc (default)\n",
            "    Metadata:\n",
            "      creation_time   : 2016-08-18T03:38:57.000000Z\n",
            "      handler_name    : VideoHandler\n",
            "Stream mapping:\n",
            "  Stream #0:0 -> #0:0 (h264 (native) -> h264 (libx264))\n",
            "Press [q] to stop, [?] for help\n",
            "\u001b[1;36m[libx264 @ 0x56532f1d6300] \u001b[0musing SAR=1/1\n",
            "\u001b[1;36m[libx264 @ 0x56532f1d6300] \u001b[0musing cpu capabilities: MMX2 SSE2Fast SSSE3 SSE4.2 AVX FMA3 BMI2 AVX2\n",
            "\u001b[1;36m[libx264 @ 0x56532f1d6300] \u001b[0mprofile High, level 3.1\n",
            "\u001b[1;36m[libx264 @ 0x56532f1d6300] \u001b[0m264 - core 152 r2854 e9a5903 - H.264/MPEG-4 AVC codec - Copyleft 2003-2017 - http://www.videolan.org/x264.html - options: cabac=1 ref=3 deblock=1:0:0 analyse=0x3:0x113 me=hex subme=7 psy=1 psy_rd=1.00:0.00 mixed_ref=1 me_range=16 chroma_me=1 trellis=1 8x8dct=1 cqm=0 deadzone=21,11 fast_pskip=1 chroma_qp_offset=-2 threads=3 lookahead_threads=1 sliced_threads=0 nr=0 decimate=1 interlaced=0 bluray_compat=0 constrained_intra=0 bframes=3 b_pyramid=2 b_adapt=1 b_bias=0 direct=1 weightb=1 open_gop=0 weightp=2 keyint=250 keyint_min=25 scenecut=40 intra_refresh=0 rc_lookahead=40 rc=crf mbtree=1 crf=23.0 qcomp=0.60 qpmin=0 qpmax=69 qpstep=4 ip_ratio=1.40 aq=1:1.00\n",
            "Output #0, mp4, to 'data1.mp4':\n",
            "  Metadata:\n",
            "    major_brand     : dash\n",
            "    minor_version   : 0\n",
            "    compatible_brands: iso6avc1mp41\n",
            "    encoder         : Lavf57.83.100\n",
            "    Stream #0:0(und): Video: h264 (libx264) (avc1 / 0x31637661), yuv420p, 1280x720 [SAR 1:1 DAR 16:9], q=-1--1, 29.97 fps, 30k tbn, 29.97 tbc (default)\n",
            "    Metadata:\n",
            "      creation_time   : 2016-08-18T03:38:57.000000Z\n",
            "      handler_name    : VideoHandler\n",
            "      encoder         : Lavc57.107.100 libx264\n",
            "    Side data:\n",
            "      cpb: bitrate max/min/avg: 0/0/0 buffer size: 0 vbv_delay: -1\n",
            "frame=  300 fps=9.1 q=-1.0 Lsize=    1498kB time=00:00:09.90 bitrate=1238.0kbits/s speed=0.302x    \n",
            "video:1493kB audio:0kB subtitle:0kB other streams:0kB global headers:0kB muxing overhead: 0.287156%\n",
            "\u001b[1;36m[libx264 @ 0x56532f1d6300] \u001b[0mframe I:2     Avg QP:19.12  size: 82594\n",
            "\u001b[1;36m[libx264 @ 0x56532f1d6300] \u001b[0mframe P:82    Avg QP:21.45  size: 11932\n",
            "\u001b[1;36m[libx264 @ 0x56532f1d6300] \u001b[0mframe B:216   Avg QP:25.71  size:  1782\n",
            "\u001b[1;36m[libx264 @ 0x56532f1d6300] \u001b[0mconsecutive B-frames:  2.7%  1.3%  8.0% 88.0%\n",
            "\u001b[1;36m[libx264 @ 0x56532f1d6300] \u001b[0mmb I  I16..4:  7.4% 73.6% 19.0%\n",
            "\u001b[1;36m[libx264 @ 0x56532f1d6300] \u001b[0mmb P  I16..4:  1.5%  2.4%  0.3%  P16..4: 42.7% 14.7%  9.2%  0.0%  0.0%    skip:29.3%\n",
            "\u001b[1;36m[libx264 @ 0x56532f1d6300] \u001b[0mmb B  I16..4:  0.1%  0.1%  0.0%  B16..8: 38.2%  1.0%  0.1%  direct: 0.2%  skip:60.4%  L0:41.9% L1:57.0% BI: 1.0%\n",
            "\u001b[1;36m[libx264 @ 0x56532f1d6300] \u001b[0m8x8 transform intra:62.1% inter:66.5%\n",
            "\u001b[1;36m[libx264 @ 0x56532f1d6300] \u001b[0mcoded y,uvDC,uvAC intra: 45.2% 51.5% 14.4% inter: 7.4% 6.9% 0.0%\n",
            "\u001b[1;36m[libx264 @ 0x56532f1d6300] \u001b[0mi16 v,h,dc,p: 16% 22% 19% 43%\n",
            "\u001b[1;36m[libx264 @ 0x56532f1d6300] \u001b[0mi8 v,h,dc,ddl,ddr,vr,hd,vl,hu: 15% 18% 37%  5%  4%  3%  5%  4%  9%\n",
            "\u001b[1;36m[libx264 @ 0x56532f1d6300] \u001b[0mi4 v,h,dc,ddl,ddr,vr,hd,vl,hu: 14% 18% 30%  6%  7%  5%  7%  4%  8%\n",
            "\u001b[1;36m[libx264 @ 0x56532f1d6300] \u001b[0mi8c dc,h,v,p: 57% 26% 12%  5%\n",
            "\u001b[1;36m[libx264 @ 0x56532f1d6300] \u001b[0mWeighted P-Frames: Y:1.2% UV:0.0%\n",
            "\u001b[1;36m[libx264 @ 0x56532f1d6300] \u001b[0mref P L0: 64.0% 15.7% 16.1%  4.1%  0.1%\n",
            "\u001b[1;36m[libx264 @ 0x56532f1d6300] \u001b[0mref B L0: 92.7%  6.2%  1.0%\n",
            "\u001b[1;36m[libx264 @ 0x56532f1d6300] \u001b[0mref B L1: 96.6%  3.4%\n",
            "\u001b[1;36m[libx264 @ 0x56532f1d6300] \u001b[0mkb/s:1221.54\n"
          ]
        }
      ]
    },
    {
      "cell_type": "code",
      "execution_count": null,
      "metadata": {
        "id": "_9bswm4QNEjS",
        "colab": {
          "base_uri": "https://localhost:8080/"
        },
        "outputId": "0397a941-e942-4e54-9858-804a67bdba50"
      },
      "outputs": [
        {
          "output_type": "stream",
          "name": "stdout",
          "text": [
            "Input #0, mov,mp4,m4a,3gp,3g2,mj2, from 'data.mp4':\n",
            "  Metadata:\n",
            "    major_brand     : isom\n",
            "    minor_version   : 512\n",
            "    compatible_brands: isomiso2avc1mp41\n",
            "    encoder         : Lavf57.83.100\n",
            "  Duration: 00:00:10.01, start: 0.000000, bitrate: 1225 kb/s\n",
            "    Stream #0:0(und): Video: h264 (High) (avc1 / 0x31637661), yuv420p, 1280x720 [SAR 1:1 DAR 16:9], 1222 kb/s, 29.97 fps, 29.97 tbr, 30k tbn, 59.94 tbc (default)\n",
            "    Metadata:\n",
            "      handler_name    : VideoHandler\n",
            "Stream mapping:\n",
            "  Stream #0:0 -> #0:0 (h264 (native) -> mjpeg (native))\n",
            "Press [q] to stop, [?] for help\n",
            "\u001b[1;34m[swscaler @ 0x5646423dc000] \u001b[0m\u001b[0;33mdeprecated pixel format used, make sure you did set range correctly\n",
            "\u001b[0mOutput #0, image2, to 'bottom/img%04d.jpg':\n",
            "  Metadata:\n",
            "    major_brand     : isom\n",
            "    minor_version   : 512\n",
            "    compatible_brands: isomiso2avc1mp41\n",
            "    encoder         : Lavf57.83.100\n",
            "    Stream #0:0(und): Video: mjpeg, yuvj420p(pc), 1280x720 [SAR 1:1 DAR 16:9], q=2-31, 200 kb/s, 1 fps, 1 tbn, 1 tbc (default)\n",
            "    Metadata:\n",
            "      handler_name    : VideoHandler\n",
            "      encoder         : Lavc57.107.100 mjpeg\n",
            "    Side data:\n",
            "      cpb: bitrate max/min/avg: 0/0/200000 buffer size: 0 vbv_delay: -1\n",
            "frame=   12 fps=6.0 q=20.7 Lsize=N/A time=00:00:12.00 bitrate=N/A dup=0 drop=288 speed=   6x    \n",
            "video:715kB audio:0kB subtitle:0kB other streams:0kB global headers:0kB muxing overhead: unknown\n"
          ]
        }
      ],
      "source": [
        "!mkdir -p bottom\n",
        "!ffmpeg -i data.mp4 -r 1 bottom/img%04d.jpg -hide_banner"
      ],
      "id": "_9bswm4QNEjS"
    },
    {
      "cell_type": "markdown",
      "metadata": {
        "id": "a72ac394"
      },
      "source": [
        "# Setup\n",
        "Here we define some output paths."
      ],
      "id": "a72ac394"
    },
    {
      "cell_type": "code",
      "execution_count": null,
      "metadata": {
        "id": "f376de7b"
      },
      "outputs": [],
      "source": [
        "images = Path('bottom')\n",
        "outputs = Path('outputs/demo/')\n",
        "!rm -rf $outputs\n",
        "sfm_pairs = outputs / 'pairs-sfm.txt'\n",
        "loc_pairs = outputs / 'pairs-loc.txt'\n",
        "sfm_dir = outputs / 'sfm'\n",
        "features = outputs / 'features.h5'\n",
        "matches = outputs / 'matches.h5'\n",
        "\n",
        "feature_conf = extract_features.confs['superpoint_aachen']\n",
        "matcher_conf = match_features.confs['superglue']"
      ],
      "id": "f376de7b"
    },
    {
      "cell_type": "markdown",
      "metadata": {
        "id": "edc7b21e"
      },
      "source": [
        "# 3D mapping\n",
        "First we list the images used for mapping. "
      ],
      "id": "edc7b21e"
    },
    {
      "cell_type": "code",
      "execution_count": null,
      "metadata": {
        "id": "2b9e3ef3"
      },
      "outputs": [],
      "source": [
        "references = [str(p.relative_to(images)) for p in (images).iterdir()]"
      ],
      "id": "2b9e3ef3"
    },
    {
      "cell_type": "markdown",
      "metadata": {
        "id": "d23739ad"
      },
      "source": [
        "Then we extract features and match them across image pairs. Since we deal with few images, we simply match all pairs exhaustively.\n"
      ],
      "id": "d23739ad"
    },
    {
      "cell_type": "code",
      "execution_count": null,
      "metadata": {
        "colab": {
          "base_uri": "https://localhost:8080/",
          "height": 324,
          "referenced_widgets": [
            "fbf4e6d22186428d967c2f4f0295ceb9",
            "885d321500474d9d91de0b0bd16c1f05",
            "6ee2f825e0f2436890fc00f129dcc8e3",
            "a0a0af7fa98940cd870b69d7eda45dae",
            "663d2623f38947fea9f36ac70796833a",
            "dda7ff851a73459cae4e79c12cc8ae39",
            "33d67d629de5434dbf27c7691e513ac2",
            "289fb17ad20a40d7828865e049c1857f",
            "530ee81bf4b64b628c26c0b71584c78c",
            "8ccf8b53ac534c73bc9bed34c6f3eee7",
            "2f5aa4ad2fb64d938752f8cc65ee346e",
            "dc498c04e5574291b8d20cf5d6b2d158",
            "e27fccd0a2934ed482d5822ad0976c51",
            "8c7460ae05474fe18bf855105b2fdd22",
            "c0e9a5f10149431b8f066ee14d0db55c",
            "671f2aef89084edf9f896258e3cc2ae6",
            "6cde1916df614c3787883df207353eaf",
            "57a31983e2f1451cbcca1a3d590b5b0f",
            "48b2107ebcce414f9f13119cfc3a0bbb",
            "642385c83488465daf7bcabfc46524a0",
            "a9ebed6618154c0a81412a27efe6e2ae",
            "0b8ce69123cc4629abc48b93478be608"
          ]
        },
        "id": "bdd2df10",
        "outputId": "ea0d0526-8e0c-42af-8251-d9cf310e759c"
      },
      "outputs": [
        {
          "output_type": "stream",
          "name": "stderr",
          "text": [
            "[2022/08/31 17:02:34 hloc INFO] Extracting local features with configuration:\n",
            "{'model': {'max_keypoints': 4096, 'name': 'superpoint', 'nms_radius': 3},\n",
            " 'output': 'feats-superpoint-n4096-r1024',\n",
            " 'preprocessing': {'grayscale': True, 'resize_max': 1024}}\n"
          ]
        },
        {
          "output_type": "stream",
          "name": "stdout",
          "text": [
            "Loaded SuperPoint model\n"
          ]
        },
        {
          "output_type": "display_data",
          "data": {
            "text/plain": [
              "  0%|          | 0/12 [00:00<?, ?it/s]"
            ],
            "application/vnd.jupyter.widget-view+json": {
              "version_major": 2,
              "version_minor": 0,
              "model_id": "fbf4e6d22186428d967c2f4f0295ceb9"
            }
          },
          "metadata": {}
        },
        {
          "output_type": "stream",
          "name": "stderr",
          "text": [
            "[2022/08/31 17:02:35 hloc INFO] Finished exporting features.\n",
            "[2022/08/31 17:02:35 hloc INFO] Found 66 pairs.\n",
            "[2022/08/31 17:02:35 hloc INFO] Matching local features with configuration:\n",
            "{'model': {'name': 'superglue',\n",
            "           'sinkhorn_iterations': 50,\n",
            "           'weights': 'outdoor'},\n",
            " 'output': 'matches-superglue'}\n"
          ]
        },
        {
          "output_type": "stream",
          "name": "stdout",
          "text": [
            "Loaded SuperGlue model (\"outdoor\" weights)\n"
          ]
        },
        {
          "output_type": "display_data",
          "data": {
            "text/plain": [
              "  0%|          | 0/66 [00:00<?, ?it/s]"
            ],
            "application/vnd.jupyter.widget-view+json": {
              "version_major": 2,
              "version_minor": 0,
              "model_id": "dc498c04e5574291b8d20cf5d6b2d158"
            }
          },
          "metadata": {}
        },
        {
          "output_type": "stream",
          "name": "stderr",
          "text": [
            "[2022/08/31 17:02:47 hloc INFO] Finished exporting matches.\n"
          ]
        }
      ],
      "source": [
        "extract_features.main(feature_conf, images, image_list=references, feature_path=features)\n",
        "pairs_from_exhaustive.main(sfm_pairs, image_list=references)\n",
        "match_features.main(matcher_conf, sfm_pairs, features=features, matches=matches);"
      ],
      "id": "bdd2df10"
    },
    {
      "cell_type": "markdown",
      "metadata": {
        "id": "edf9adf4"
      },
      "source": [
        "The we run incremental Structure-from-Motion and display the reconstructed 3D model."
      ],
      "id": "edf9adf4"
    },
    {
      "cell_type": "code",
      "execution_count": null,
      "metadata": {
        "colab": {
          "base_uri": "https://localhost:8080/",
          "height": 185,
          "referenced_widgets": [
            "86015b91e99148d0a811beff0ce14aee",
            "f330244e5d2c4acbb6788b560312a4b1",
            "4c85af11a9834a2198f668c379f6fe0a",
            "044e5767c97f4f2d8b48935ec274e0d7",
            "c85b6f293d634d20a44fb79c27067678",
            "8b2c045c8e1f4986ac524144680e2ed7",
            "472538a8870543b2bda532bb54a1dd6a",
            "b29ca9de8a3542f6b8990dee5a90dd94",
            "d9ee5ccb2e714f7e95290ed7168016cf",
            "ad9a54cbebc947e0ade4423928600106",
            "9d7daff2fea04cbb94e234a374a99a82",
            "cf8bfd4ba1d54e7f93935df846df5935",
            "ab411822705e406dbf99faac267c40f3",
            "1aeaf52701ec4a1b8c8b22681a8a1b60",
            "d4e9ebd1078a4eed9cbb3a7d7d768e1a",
            "57e6d65fea304c28a311f5e4e20e8a0d",
            "b68176b286f74b7ba27d341372c5dc55",
            "924137f451d94cdca39c3aa783f45397",
            "53e79784cdaf430c88e3bcc200470964",
            "06c62a560dbe4c4cbe72df1805df4360",
            "24aaec224a4a490c83ffda11984268f2",
            "483a5c8685c54c7cbffba98c81586078"
          ]
        },
        "id": "a52fe785",
        "outputId": "f0aae703-39ea-4033-9897-aad939ccf35b"
      },
      "outputs": [
        {
          "output_type": "stream",
          "name": "stderr",
          "text": [
            "[2022/08/31 17:03:24 hloc INFO] Creating an empty database...\n",
            "[2022/08/31 17:03:24 hloc INFO] Importing images into the database...\n",
            "[2022/08/31 17:03:24 hloc INFO] Importing features into the database...\n"
          ]
        },
        {
          "output_type": "display_data",
          "data": {
            "text/plain": [
              "  0%|          | 0/12 [00:00<?, ?it/s]"
            ],
            "application/vnd.jupyter.widget-view+json": {
              "version_major": 2,
              "version_minor": 0,
              "model_id": "86015b91e99148d0a811beff0ce14aee"
            }
          },
          "metadata": {}
        },
        {
          "output_type": "stream",
          "name": "stderr",
          "text": [
            "[2022/08/31 17:03:24 hloc INFO] Importing matches into the database...\n"
          ]
        },
        {
          "output_type": "display_data",
          "data": {
            "text/plain": [
              "  0%|          | 0/66 [00:00<?, ?it/s]"
            ],
            "application/vnd.jupyter.widget-view+json": {
              "version_major": 2,
              "version_minor": 0,
              "model_id": "cf8bfd4ba1d54e7f93935df846df5935"
            }
          },
          "metadata": {}
        },
        {
          "output_type": "stream",
          "name": "stderr",
          "text": [
            "[2022/08/31 17:03:24 hloc INFO] Performing geometric verification of the matches...\n",
            "[2022/08/31 17:03:25 hloc INFO] Running 3D reconstruction...\n"
          ]
        }
      ],
      "source": [
        "model = reconstruction.main(sfm_dir, images, sfm_pairs, features, matches, image_list=references)\n",
        "fig = viz_3d.init_figure()\n",
        "viz_3d.plot_reconstruction(fig, model, color='rgba(255,0,0,0.5)', name=\"mapping\")\n",
        "fig.show()"
      ],
      "id": "a52fe785"
    },
    {
      "cell_type": "code",
      "execution_count": null,
      "metadata": {
        "id": "YFiobqIarUoP"
      },
      "outputs": [],
      "source": [
        "from hloc.utils.read_write_model import read_model\n",
        "cameras, imges, points3D = read_model('/content/Hierarchical-Localization/outputs/demo/sfm', ext='.bin')"
      ],
      "id": "YFiobqIarUoP"
    },
    {
      "cell_type": "markdown",
      "metadata": {
        "id": "5478094d"
      },
      "source": [
        "We also visualize which keypoints were triangulated into the 3D model."
      ],
      "id": "5478094d"
    },
    {
      "cell_type": "code",
      "execution_count": null,
      "metadata": {
        "id": "862c20e7"
      },
      "outputs": [],
      "source": [
        "visualization.visualize_sfm_2d(model, images, color_by='visibility', n=2)"
      ],
      "id": "862c20e7"
    },
    {
      "cell_type": "markdown",
      "source": [
        "Saving our point cloud to a file"
      ],
      "metadata": {
        "id": "FV8u-juj4mX0"
      },
      "id": "FV8u-juj4mX0"
    },
    {
      "cell_type": "code",
      "execution_count": null,
      "metadata": {
        "id": "d9t0MZRSrUqs"
      },
      "outputs": [],
      "source": [
        "from hloc.utils import read_write_model\n",
        "model.export_PLY(\"crabs.ply\")"
      ],
      "id": "d9t0MZRSrUqs"
    },
    {
      "cell_type": "markdown",
      "metadata": {
        "id": "MvyMOdOEx7Rs"
      },
      "source": [
        "# Open3D Poisson Surface"
      ],
      "id": "MvyMOdOEx7Rs"
    },
    {
      "cell_type": "markdown",
      "source": [
        "Вопрос: https://github.com/isl-org/Open3D/issues/5439"
      ],
      "metadata": {
        "id": "uTPdUIXv7LVx"
      },
      "id": "uTPdUIXv7LVx"
    },
    {
      "cell_type": "code",
      "execution_count": null,
      "metadata": {
        "id": "huIBJaIOx9O7"
      },
      "outputs": [],
      "source": [
        "!pip install surface_reconstruction"
      ],
      "id": "huIBJaIOx9O7"
    },
    {
      "cell_type": "code",
      "source": [
        "!pip3 install open3d"
      ],
      "metadata": {
        "id": "5dMkWOA7WzSm"
      },
      "id": "5dMkWOA7WzSm",
      "execution_count": null,
      "outputs": []
    },
    {
      "cell_type": "code",
      "execution_count": null,
      "metadata": {
        "colab": {
          "base_uri": "https://localhost:8080/"
        },
        "id": "sUWSHEoRyhCL",
        "outputId": "3935e96f-d71d-4064-cd78-43d47589e739"
      },
      "outputs": [
        {
          "output_type": "execute_result",
          "data": {
            "text/plain": [
              "open3d.cuda.pybind.geometry.PointCloud"
            ]
          },
          "metadata": {},
          "execution_count": 42
        }
      ],
      "source": [
        "import open3d as o3d\n",
        "o3d.geometry.PointCloud"
      ],
      "id": "sUWSHEoRyhCL"
    },
    {
      "cell_type": "code",
      "execution_count": null,
      "metadata": {
        "id": "NZB6OskvyAmv"
      },
      "outputs": [],
      "source": [
        "from surface_reconstruction import SurfaceReconstruction\n",
        "import os"
      ],
      "id": "NZB6OskvyAmv"
    },
    {
      "cell_type": "code",
      "execution_count": null,
      "metadata": {
        "id": "G39fXARoyB1X"
      },
      "outputs": [],
      "source": [
        "# Pass a method/library that contains a Poisson algorithm implementation\n",
        "surface = SurfaceReconstruction(\n",
        "  method_type='open3d',\n",
        "  point_cloud_file=os.path.join('/content','Hierarchical-Localization', 'crabs.ply'),\n",
        "  output_file=os.path.join('/content','terrain_mesh2.ply'))\n",
        "\n",
        "\n",
        "surface.poisson_mesh()"
      ],
      "id": "G39fXARoyB1X"
    }
  ],
  "metadata": {
    "accelerator": "GPU",
    "colab": {
      "collapsed_sections": [],
      "provenance": []
    },
    "gpuClass": "standard",
    "kernelspec": {
      "display_name": "Python 3 (ipykernel)",
      "language": "python",
      "name": "python3"
    },
    "language_info": {
      "codemirror_mode": {
        "name": "ipython",
        "version": 3
      },
      "file_extension": ".py",
      "mimetype": "text/x-python",
      "name": "python",
      "nbconvert_exporter": "python",
      "pygments_lexer": "ipython3",
      "version": "3.7.8"
    },
    "widgets": {
      "application/vnd.jupyter.widget-state+json": {
        "fbf4e6d22186428d967c2f4f0295ceb9": {
          "model_module": "@jupyter-widgets/controls",
          "model_name": "HBoxModel",
          "model_module_version": "1.5.0",
          "state": {
            "_dom_classes": [],
            "_model_module": "@jupyter-widgets/controls",
            "_model_module_version": "1.5.0",
            "_model_name": "HBoxModel",
            "_view_count": null,
            "_view_module": "@jupyter-widgets/controls",
            "_view_module_version": "1.5.0",
            "_view_name": "HBoxView",
            "box_style": "",
            "children": [
              "IPY_MODEL_885d321500474d9d91de0b0bd16c1f05",
              "IPY_MODEL_6ee2f825e0f2436890fc00f129dcc8e3",
              "IPY_MODEL_a0a0af7fa98940cd870b69d7eda45dae"
            ],
            "layout": "IPY_MODEL_663d2623f38947fea9f36ac70796833a"
          }
        },
        "885d321500474d9d91de0b0bd16c1f05": {
          "model_module": "@jupyter-widgets/controls",
          "model_name": "HTMLModel",
          "model_module_version": "1.5.0",
          "state": {
            "_dom_classes": [],
            "_model_module": "@jupyter-widgets/controls",
            "_model_module_version": "1.5.0",
            "_model_name": "HTMLModel",
            "_view_count": null,
            "_view_module": "@jupyter-widgets/controls",
            "_view_module_version": "1.5.0",
            "_view_name": "HTMLView",
            "description": "",
            "description_tooltip": null,
            "layout": "IPY_MODEL_dda7ff851a73459cae4e79c12cc8ae39",
            "placeholder": "​",
            "style": "IPY_MODEL_33d67d629de5434dbf27c7691e513ac2",
            "value": "100%"
          }
        },
        "6ee2f825e0f2436890fc00f129dcc8e3": {
          "model_module": "@jupyter-widgets/controls",
          "model_name": "FloatProgressModel",
          "model_module_version": "1.5.0",
          "state": {
            "_dom_classes": [],
            "_model_module": "@jupyter-widgets/controls",
            "_model_module_version": "1.5.0",
            "_model_name": "FloatProgressModel",
            "_view_count": null,
            "_view_module": "@jupyter-widgets/controls",
            "_view_module_version": "1.5.0",
            "_view_name": "ProgressView",
            "bar_style": "success",
            "description": "",
            "description_tooltip": null,
            "layout": "IPY_MODEL_289fb17ad20a40d7828865e049c1857f",
            "max": 12,
            "min": 0,
            "orientation": "horizontal",
            "style": "IPY_MODEL_530ee81bf4b64b628c26c0b71584c78c",
            "value": 12
          }
        },
        "a0a0af7fa98940cd870b69d7eda45dae": {
          "model_module": "@jupyter-widgets/controls",
          "model_name": "HTMLModel",
          "model_module_version": "1.5.0",
          "state": {
            "_dom_classes": [],
            "_model_module": "@jupyter-widgets/controls",
            "_model_module_version": "1.5.0",
            "_model_name": "HTMLModel",
            "_view_count": null,
            "_view_module": "@jupyter-widgets/controls",
            "_view_module_version": "1.5.0",
            "_view_name": "HTMLView",
            "description": "",
            "description_tooltip": null,
            "layout": "IPY_MODEL_8ccf8b53ac534c73bc9bed34c6f3eee7",
            "placeholder": "​",
            "style": "IPY_MODEL_2f5aa4ad2fb64d938752f8cc65ee346e",
            "value": " 12/12 [00:00&lt;00:00, 23.40it/s]"
          }
        },
        "663d2623f38947fea9f36ac70796833a": {
          "model_module": "@jupyter-widgets/base",
          "model_name": "LayoutModel",
          "model_module_version": "1.2.0",
          "state": {
            "_model_module": "@jupyter-widgets/base",
            "_model_module_version": "1.2.0",
            "_model_name": "LayoutModel",
            "_view_count": null,
            "_view_module": "@jupyter-widgets/base",
            "_view_module_version": "1.2.0",
            "_view_name": "LayoutView",
            "align_content": null,
            "align_items": null,
            "align_self": null,
            "border": null,
            "bottom": null,
            "display": null,
            "flex": null,
            "flex_flow": null,
            "grid_area": null,
            "grid_auto_columns": null,
            "grid_auto_flow": null,
            "grid_auto_rows": null,
            "grid_column": null,
            "grid_gap": null,
            "grid_row": null,
            "grid_template_areas": null,
            "grid_template_columns": null,
            "grid_template_rows": null,
            "height": null,
            "justify_content": null,
            "justify_items": null,
            "left": null,
            "margin": null,
            "max_height": null,
            "max_width": null,
            "min_height": null,
            "min_width": null,
            "object_fit": null,
            "object_position": null,
            "order": null,
            "overflow": null,
            "overflow_x": null,
            "overflow_y": null,
            "padding": null,
            "right": null,
            "top": null,
            "visibility": null,
            "width": null
          }
        },
        "dda7ff851a73459cae4e79c12cc8ae39": {
          "model_module": "@jupyter-widgets/base",
          "model_name": "LayoutModel",
          "model_module_version": "1.2.0",
          "state": {
            "_model_module": "@jupyter-widgets/base",
            "_model_module_version": "1.2.0",
            "_model_name": "LayoutModel",
            "_view_count": null,
            "_view_module": "@jupyter-widgets/base",
            "_view_module_version": "1.2.0",
            "_view_name": "LayoutView",
            "align_content": null,
            "align_items": null,
            "align_self": null,
            "border": null,
            "bottom": null,
            "display": null,
            "flex": null,
            "flex_flow": null,
            "grid_area": null,
            "grid_auto_columns": null,
            "grid_auto_flow": null,
            "grid_auto_rows": null,
            "grid_column": null,
            "grid_gap": null,
            "grid_row": null,
            "grid_template_areas": null,
            "grid_template_columns": null,
            "grid_template_rows": null,
            "height": null,
            "justify_content": null,
            "justify_items": null,
            "left": null,
            "margin": null,
            "max_height": null,
            "max_width": null,
            "min_height": null,
            "min_width": null,
            "object_fit": null,
            "object_position": null,
            "order": null,
            "overflow": null,
            "overflow_x": null,
            "overflow_y": null,
            "padding": null,
            "right": null,
            "top": null,
            "visibility": null,
            "width": null
          }
        },
        "33d67d629de5434dbf27c7691e513ac2": {
          "model_module": "@jupyter-widgets/controls",
          "model_name": "DescriptionStyleModel",
          "model_module_version": "1.5.0",
          "state": {
            "_model_module": "@jupyter-widgets/controls",
            "_model_module_version": "1.5.0",
            "_model_name": "DescriptionStyleModel",
            "_view_count": null,
            "_view_module": "@jupyter-widgets/base",
            "_view_module_version": "1.2.0",
            "_view_name": "StyleView",
            "description_width": ""
          }
        },
        "289fb17ad20a40d7828865e049c1857f": {
          "model_module": "@jupyter-widgets/base",
          "model_name": "LayoutModel",
          "model_module_version": "1.2.0",
          "state": {
            "_model_module": "@jupyter-widgets/base",
            "_model_module_version": "1.2.0",
            "_model_name": "LayoutModel",
            "_view_count": null,
            "_view_module": "@jupyter-widgets/base",
            "_view_module_version": "1.2.0",
            "_view_name": "LayoutView",
            "align_content": null,
            "align_items": null,
            "align_self": null,
            "border": null,
            "bottom": null,
            "display": null,
            "flex": null,
            "flex_flow": null,
            "grid_area": null,
            "grid_auto_columns": null,
            "grid_auto_flow": null,
            "grid_auto_rows": null,
            "grid_column": null,
            "grid_gap": null,
            "grid_row": null,
            "grid_template_areas": null,
            "grid_template_columns": null,
            "grid_template_rows": null,
            "height": null,
            "justify_content": null,
            "justify_items": null,
            "left": null,
            "margin": null,
            "max_height": null,
            "max_width": null,
            "min_height": null,
            "min_width": null,
            "object_fit": null,
            "object_position": null,
            "order": null,
            "overflow": null,
            "overflow_x": null,
            "overflow_y": null,
            "padding": null,
            "right": null,
            "top": null,
            "visibility": null,
            "width": null
          }
        },
        "530ee81bf4b64b628c26c0b71584c78c": {
          "model_module": "@jupyter-widgets/controls",
          "model_name": "ProgressStyleModel",
          "model_module_version": "1.5.0",
          "state": {
            "_model_module": "@jupyter-widgets/controls",
            "_model_module_version": "1.5.0",
            "_model_name": "ProgressStyleModel",
            "_view_count": null,
            "_view_module": "@jupyter-widgets/base",
            "_view_module_version": "1.2.0",
            "_view_name": "StyleView",
            "bar_color": null,
            "description_width": ""
          }
        },
        "8ccf8b53ac534c73bc9bed34c6f3eee7": {
          "model_module": "@jupyter-widgets/base",
          "model_name": "LayoutModel",
          "model_module_version": "1.2.0",
          "state": {
            "_model_module": "@jupyter-widgets/base",
            "_model_module_version": "1.2.0",
            "_model_name": "LayoutModel",
            "_view_count": null,
            "_view_module": "@jupyter-widgets/base",
            "_view_module_version": "1.2.0",
            "_view_name": "LayoutView",
            "align_content": null,
            "align_items": null,
            "align_self": null,
            "border": null,
            "bottom": null,
            "display": null,
            "flex": null,
            "flex_flow": null,
            "grid_area": null,
            "grid_auto_columns": null,
            "grid_auto_flow": null,
            "grid_auto_rows": null,
            "grid_column": null,
            "grid_gap": null,
            "grid_row": null,
            "grid_template_areas": null,
            "grid_template_columns": null,
            "grid_template_rows": null,
            "height": null,
            "justify_content": null,
            "justify_items": null,
            "left": null,
            "margin": null,
            "max_height": null,
            "max_width": null,
            "min_height": null,
            "min_width": null,
            "object_fit": null,
            "object_position": null,
            "order": null,
            "overflow": null,
            "overflow_x": null,
            "overflow_y": null,
            "padding": null,
            "right": null,
            "top": null,
            "visibility": null,
            "width": null
          }
        },
        "2f5aa4ad2fb64d938752f8cc65ee346e": {
          "model_module": "@jupyter-widgets/controls",
          "model_name": "DescriptionStyleModel",
          "model_module_version": "1.5.0",
          "state": {
            "_model_module": "@jupyter-widgets/controls",
            "_model_module_version": "1.5.0",
            "_model_name": "DescriptionStyleModel",
            "_view_count": null,
            "_view_module": "@jupyter-widgets/base",
            "_view_module_version": "1.2.0",
            "_view_name": "StyleView",
            "description_width": ""
          }
        },
        "dc498c04e5574291b8d20cf5d6b2d158": {
          "model_module": "@jupyter-widgets/controls",
          "model_name": "HBoxModel",
          "model_module_version": "1.5.0",
          "state": {
            "_dom_classes": [],
            "_model_module": "@jupyter-widgets/controls",
            "_model_module_version": "1.5.0",
            "_model_name": "HBoxModel",
            "_view_count": null,
            "_view_module": "@jupyter-widgets/controls",
            "_view_module_version": "1.5.0",
            "_view_name": "HBoxView",
            "box_style": "",
            "children": [
              "IPY_MODEL_e27fccd0a2934ed482d5822ad0976c51",
              "IPY_MODEL_8c7460ae05474fe18bf855105b2fdd22",
              "IPY_MODEL_c0e9a5f10149431b8f066ee14d0db55c"
            ],
            "layout": "IPY_MODEL_671f2aef89084edf9f896258e3cc2ae6"
          }
        },
        "e27fccd0a2934ed482d5822ad0976c51": {
          "model_module": "@jupyter-widgets/controls",
          "model_name": "HTMLModel",
          "model_module_version": "1.5.0",
          "state": {
            "_dom_classes": [],
            "_model_module": "@jupyter-widgets/controls",
            "_model_module_version": "1.5.0",
            "_model_name": "HTMLModel",
            "_view_count": null,
            "_view_module": "@jupyter-widgets/controls",
            "_view_module_version": "1.5.0",
            "_view_name": "HTMLView",
            "description": "",
            "description_tooltip": null,
            "layout": "IPY_MODEL_6cde1916df614c3787883df207353eaf",
            "placeholder": "​",
            "style": "IPY_MODEL_57a31983e2f1451cbcca1a3d590b5b0f",
            "value": "100%"
          }
        },
        "8c7460ae05474fe18bf855105b2fdd22": {
          "model_module": "@jupyter-widgets/controls",
          "model_name": "FloatProgressModel",
          "model_module_version": "1.5.0",
          "state": {
            "_dom_classes": [],
            "_model_module": "@jupyter-widgets/controls",
            "_model_module_version": "1.5.0",
            "_model_name": "FloatProgressModel",
            "_view_count": null,
            "_view_module": "@jupyter-widgets/controls",
            "_view_module_version": "1.5.0",
            "_view_name": "ProgressView",
            "bar_style": "success",
            "description": "",
            "description_tooltip": null,
            "layout": "IPY_MODEL_48b2107ebcce414f9f13119cfc3a0bbb",
            "max": 66,
            "min": 0,
            "orientation": "horizontal",
            "style": "IPY_MODEL_642385c83488465daf7bcabfc46524a0",
            "value": 66
          }
        },
        "c0e9a5f10149431b8f066ee14d0db55c": {
          "model_module": "@jupyter-widgets/controls",
          "model_name": "HTMLModel",
          "model_module_version": "1.5.0",
          "state": {
            "_dom_classes": [],
            "_model_module": "@jupyter-widgets/controls",
            "_model_module_version": "1.5.0",
            "_model_name": "HTMLModel",
            "_view_count": null,
            "_view_module": "@jupyter-widgets/controls",
            "_view_module_version": "1.5.0",
            "_view_name": "HTMLView",
            "description": "",
            "description_tooltip": null,
            "layout": "IPY_MODEL_a9ebed6618154c0a81412a27efe6e2ae",
            "placeholder": "​",
            "style": "IPY_MODEL_0b8ce69123cc4629abc48b93478be608",
            "value": " 66/66 [00:12&lt;00:00,  5.51it/s]"
          }
        },
        "671f2aef89084edf9f896258e3cc2ae6": {
          "model_module": "@jupyter-widgets/base",
          "model_name": "LayoutModel",
          "model_module_version": "1.2.0",
          "state": {
            "_model_module": "@jupyter-widgets/base",
            "_model_module_version": "1.2.0",
            "_model_name": "LayoutModel",
            "_view_count": null,
            "_view_module": "@jupyter-widgets/base",
            "_view_module_version": "1.2.0",
            "_view_name": "LayoutView",
            "align_content": null,
            "align_items": null,
            "align_self": null,
            "border": null,
            "bottom": null,
            "display": null,
            "flex": null,
            "flex_flow": null,
            "grid_area": null,
            "grid_auto_columns": null,
            "grid_auto_flow": null,
            "grid_auto_rows": null,
            "grid_column": null,
            "grid_gap": null,
            "grid_row": null,
            "grid_template_areas": null,
            "grid_template_columns": null,
            "grid_template_rows": null,
            "height": null,
            "justify_content": null,
            "justify_items": null,
            "left": null,
            "margin": null,
            "max_height": null,
            "max_width": null,
            "min_height": null,
            "min_width": null,
            "object_fit": null,
            "object_position": null,
            "order": null,
            "overflow": null,
            "overflow_x": null,
            "overflow_y": null,
            "padding": null,
            "right": null,
            "top": null,
            "visibility": null,
            "width": null
          }
        },
        "6cde1916df614c3787883df207353eaf": {
          "model_module": "@jupyter-widgets/base",
          "model_name": "LayoutModel",
          "model_module_version": "1.2.0",
          "state": {
            "_model_module": "@jupyter-widgets/base",
            "_model_module_version": "1.2.0",
            "_model_name": "LayoutModel",
            "_view_count": null,
            "_view_module": "@jupyter-widgets/base",
            "_view_module_version": "1.2.0",
            "_view_name": "LayoutView",
            "align_content": null,
            "align_items": null,
            "align_self": null,
            "border": null,
            "bottom": null,
            "display": null,
            "flex": null,
            "flex_flow": null,
            "grid_area": null,
            "grid_auto_columns": null,
            "grid_auto_flow": null,
            "grid_auto_rows": null,
            "grid_column": null,
            "grid_gap": null,
            "grid_row": null,
            "grid_template_areas": null,
            "grid_template_columns": null,
            "grid_template_rows": null,
            "height": null,
            "justify_content": null,
            "justify_items": null,
            "left": null,
            "margin": null,
            "max_height": null,
            "max_width": null,
            "min_height": null,
            "min_width": null,
            "object_fit": null,
            "object_position": null,
            "order": null,
            "overflow": null,
            "overflow_x": null,
            "overflow_y": null,
            "padding": null,
            "right": null,
            "top": null,
            "visibility": null,
            "width": null
          }
        },
        "57a31983e2f1451cbcca1a3d590b5b0f": {
          "model_module": "@jupyter-widgets/controls",
          "model_name": "DescriptionStyleModel",
          "model_module_version": "1.5.0",
          "state": {
            "_model_module": "@jupyter-widgets/controls",
            "_model_module_version": "1.5.0",
            "_model_name": "DescriptionStyleModel",
            "_view_count": null,
            "_view_module": "@jupyter-widgets/base",
            "_view_module_version": "1.2.0",
            "_view_name": "StyleView",
            "description_width": ""
          }
        },
        "48b2107ebcce414f9f13119cfc3a0bbb": {
          "model_module": "@jupyter-widgets/base",
          "model_name": "LayoutModel",
          "model_module_version": "1.2.0",
          "state": {
            "_model_module": "@jupyter-widgets/base",
            "_model_module_version": "1.2.0",
            "_model_name": "LayoutModel",
            "_view_count": null,
            "_view_module": "@jupyter-widgets/base",
            "_view_module_version": "1.2.0",
            "_view_name": "LayoutView",
            "align_content": null,
            "align_items": null,
            "align_self": null,
            "border": null,
            "bottom": null,
            "display": null,
            "flex": null,
            "flex_flow": null,
            "grid_area": null,
            "grid_auto_columns": null,
            "grid_auto_flow": null,
            "grid_auto_rows": null,
            "grid_column": null,
            "grid_gap": null,
            "grid_row": null,
            "grid_template_areas": null,
            "grid_template_columns": null,
            "grid_template_rows": null,
            "height": null,
            "justify_content": null,
            "justify_items": null,
            "left": null,
            "margin": null,
            "max_height": null,
            "max_width": null,
            "min_height": null,
            "min_width": null,
            "object_fit": null,
            "object_position": null,
            "order": null,
            "overflow": null,
            "overflow_x": null,
            "overflow_y": null,
            "padding": null,
            "right": null,
            "top": null,
            "visibility": null,
            "width": null
          }
        },
        "642385c83488465daf7bcabfc46524a0": {
          "model_module": "@jupyter-widgets/controls",
          "model_name": "ProgressStyleModel",
          "model_module_version": "1.5.0",
          "state": {
            "_model_module": "@jupyter-widgets/controls",
            "_model_module_version": "1.5.0",
            "_model_name": "ProgressStyleModel",
            "_view_count": null,
            "_view_module": "@jupyter-widgets/base",
            "_view_module_version": "1.2.0",
            "_view_name": "StyleView",
            "bar_color": null,
            "description_width": ""
          }
        },
        "a9ebed6618154c0a81412a27efe6e2ae": {
          "model_module": "@jupyter-widgets/base",
          "model_name": "LayoutModel",
          "model_module_version": "1.2.0",
          "state": {
            "_model_module": "@jupyter-widgets/base",
            "_model_module_version": "1.2.0",
            "_model_name": "LayoutModel",
            "_view_count": null,
            "_view_module": "@jupyter-widgets/base",
            "_view_module_version": "1.2.0",
            "_view_name": "LayoutView",
            "align_content": null,
            "align_items": null,
            "align_self": null,
            "border": null,
            "bottom": null,
            "display": null,
            "flex": null,
            "flex_flow": null,
            "grid_area": null,
            "grid_auto_columns": null,
            "grid_auto_flow": null,
            "grid_auto_rows": null,
            "grid_column": null,
            "grid_gap": null,
            "grid_row": null,
            "grid_template_areas": null,
            "grid_template_columns": null,
            "grid_template_rows": null,
            "height": null,
            "justify_content": null,
            "justify_items": null,
            "left": null,
            "margin": null,
            "max_height": null,
            "max_width": null,
            "min_height": null,
            "min_width": null,
            "object_fit": null,
            "object_position": null,
            "order": null,
            "overflow": null,
            "overflow_x": null,
            "overflow_y": null,
            "padding": null,
            "right": null,
            "top": null,
            "visibility": null,
            "width": null
          }
        },
        "0b8ce69123cc4629abc48b93478be608": {
          "model_module": "@jupyter-widgets/controls",
          "model_name": "DescriptionStyleModel",
          "model_module_version": "1.5.0",
          "state": {
            "_model_module": "@jupyter-widgets/controls",
            "_model_module_version": "1.5.0",
            "_model_name": "DescriptionStyleModel",
            "_view_count": null,
            "_view_module": "@jupyter-widgets/base",
            "_view_module_version": "1.2.0",
            "_view_name": "StyleView",
            "description_width": ""
          }
        },
        "86015b91e99148d0a811beff0ce14aee": {
          "model_module": "@jupyter-widgets/controls",
          "model_name": "HBoxModel",
          "model_module_version": "1.5.0",
          "state": {
            "_dom_classes": [],
            "_model_module": "@jupyter-widgets/controls",
            "_model_module_version": "1.5.0",
            "_model_name": "HBoxModel",
            "_view_count": null,
            "_view_module": "@jupyter-widgets/controls",
            "_view_module_version": "1.5.0",
            "_view_name": "HBoxView",
            "box_style": "",
            "children": [
              "IPY_MODEL_f330244e5d2c4acbb6788b560312a4b1",
              "IPY_MODEL_4c85af11a9834a2198f668c379f6fe0a",
              "IPY_MODEL_044e5767c97f4f2d8b48935ec274e0d7"
            ],
            "layout": "IPY_MODEL_c85b6f293d634d20a44fb79c27067678"
          }
        },
        "f330244e5d2c4acbb6788b560312a4b1": {
          "model_module": "@jupyter-widgets/controls",
          "model_name": "HTMLModel",
          "model_module_version": "1.5.0",
          "state": {
            "_dom_classes": [],
            "_model_module": "@jupyter-widgets/controls",
            "_model_module_version": "1.5.0",
            "_model_name": "HTMLModel",
            "_view_count": null,
            "_view_module": "@jupyter-widgets/controls",
            "_view_module_version": "1.5.0",
            "_view_name": "HTMLView",
            "description": "",
            "description_tooltip": null,
            "layout": "IPY_MODEL_8b2c045c8e1f4986ac524144680e2ed7",
            "placeholder": "​",
            "style": "IPY_MODEL_472538a8870543b2bda532bb54a1dd6a",
            "value": "100%"
          }
        },
        "4c85af11a9834a2198f668c379f6fe0a": {
          "model_module": "@jupyter-widgets/controls",
          "model_name": "FloatProgressModel",
          "model_module_version": "1.5.0",
          "state": {
            "_dom_classes": [],
            "_model_module": "@jupyter-widgets/controls",
            "_model_module_version": "1.5.0",
            "_model_name": "FloatProgressModel",
            "_view_count": null,
            "_view_module": "@jupyter-widgets/controls",
            "_view_module_version": "1.5.0",
            "_view_name": "ProgressView",
            "bar_style": "success",
            "description": "",
            "description_tooltip": null,
            "layout": "IPY_MODEL_b29ca9de8a3542f6b8990dee5a90dd94",
            "max": 12,
            "min": 0,
            "orientation": "horizontal",
            "style": "IPY_MODEL_d9ee5ccb2e714f7e95290ed7168016cf",
            "value": 12
          }
        },
        "044e5767c97f4f2d8b48935ec274e0d7": {
          "model_module": "@jupyter-widgets/controls",
          "model_name": "HTMLModel",
          "model_module_version": "1.5.0",
          "state": {
            "_dom_classes": [],
            "_model_module": "@jupyter-widgets/controls",
            "_model_module_version": "1.5.0",
            "_model_name": "HTMLModel",
            "_view_count": null,
            "_view_module": "@jupyter-widgets/controls",
            "_view_module_version": "1.5.0",
            "_view_name": "HTMLView",
            "description": "",
            "description_tooltip": null,
            "layout": "IPY_MODEL_ad9a54cbebc947e0ade4423928600106",
            "placeholder": "​",
            "style": "IPY_MODEL_9d7daff2fea04cbb94e234a374a99a82",
            "value": " 12/12 [00:00&lt;00:00, 202.71it/s]"
          }
        },
        "c85b6f293d634d20a44fb79c27067678": {
          "model_module": "@jupyter-widgets/base",
          "model_name": "LayoutModel",
          "model_module_version": "1.2.0",
          "state": {
            "_model_module": "@jupyter-widgets/base",
            "_model_module_version": "1.2.0",
            "_model_name": "LayoutModel",
            "_view_count": null,
            "_view_module": "@jupyter-widgets/base",
            "_view_module_version": "1.2.0",
            "_view_name": "LayoutView",
            "align_content": null,
            "align_items": null,
            "align_self": null,
            "border": null,
            "bottom": null,
            "display": null,
            "flex": null,
            "flex_flow": null,
            "grid_area": null,
            "grid_auto_columns": null,
            "grid_auto_flow": null,
            "grid_auto_rows": null,
            "grid_column": null,
            "grid_gap": null,
            "grid_row": null,
            "grid_template_areas": null,
            "grid_template_columns": null,
            "grid_template_rows": null,
            "height": null,
            "justify_content": null,
            "justify_items": null,
            "left": null,
            "margin": null,
            "max_height": null,
            "max_width": null,
            "min_height": null,
            "min_width": null,
            "object_fit": null,
            "object_position": null,
            "order": null,
            "overflow": null,
            "overflow_x": null,
            "overflow_y": null,
            "padding": null,
            "right": null,
            "top": null,
            "visibility": null,
            "width": null
          }
        },
        "8b2c045c8e1f4986ac524144680e2ed7": {
          "model_module": "@jupyter-widgets/base",
          "model_name": "LayoutModel",
          "model_module_version": "1.2.0",
          "state": {
            "_model_module": "@jupyter-widgets/base",
            "_model_module_version": "1.2.0",
            "_model_name": "LayoutModel",
            "_view_count": null,
            "_view_module": "@jupyter-widgets/base",
            "_view_module_version": "1.2.0",
            "_view_name": "LayoutView",
            "align_content": null,
            "align_items": null,
            "align_self": null,
            "border": null,
            "bottom": null,
            "display": null,
            "flex": null,
            "flex_flow": null,
            "grid_area": null,
            "grid_auto_columns": null,
            "grid_auto_flow": null,
            "grid_auto_rows": null,
            "grid_column": null,
            "grid_gap": null,
            "grid_row": null,
            "grid_template_areas": null,
            "grid_template_columns": null,
            "grid_template_rows": null,
            "height": null,
            "justify_content": null,
            "justify_items": null,
            "left": null,
            "margin": null,
            "max_height": null,
            "max_width": null,
            "min_height": null,
            "min_width": null,
            "object_fit": null,
            "object_position": null,
            "order": null,
            "overflow": null,
            "overflow_x": null,
            "overflow_y": null,
            "padding": null,
            "right": null,
            "top": null,
            "visibility": null,
            "width": null
          }
        },
        "472538a8870543b2bda532bb54a1dd6a": {
          "model_module": "@jupyter-widgets/controls",
          "model_name": "DescriptionStyleModel",
          "model_module_version": "1.5.0",
          "state": {
            "_model_module": "@jupyter-widgets/controls",
            "_model_module_version": "1.5.0",
            "_model_name": "DescriptionStyleModel",
            "_view_count": null,
            "_view_module": "@jupyter-widgets/base",
            "_view_module_version": "1.2.0",
            "_view_name": "StyleView",
            "description_width": ""
          }
        },
        "b29ca9de8a3542f6b8990dee5a90dd94": {
          "model_module": "@jupyter-widgets/base",
          "model_name": "LayoutModel",
          "model_module_version": "1.2.0",
          "state": {
            "_model_module": "@jupyter-widgets/base",
            "_model_module_version": "1.2.0",
            "_model_name": "LayoutModel",
            "_view_count": null,
            "_view_module": "@jupyter-widgets/base",
            "_view_module_version": "1.2.0",
            "_view_name": "LayoutView",
            "align_content": null,
            "align_items": null,
            "align_self": null,
            "border": null,
            "bottom": null,
            "display": null,
            "flex": null,
            "flex_flow": null,
            "grid_area": null,
            "grid_auto_columns": null,
            "grid_auto_flow": null,
            "grid_auto_rows": null,
            "grid_column": null,
            "grid_gap": null,
            "grid_row": null,
            "grid_template_areas": null,
            "grid_template_columns": null,
            "grid_template_rows": null,
            "height": null,
            "justify_content": null,
            "justify_items": null,
            "left": null,
            "margin": null,
            "max_height": null,
            "max_width": null,
            "min_height": null,
            "min_width": null,
            "object_fit": null,
            "object_position": null,
            "order": null,
            "overflow": null,
            "overflow_x": null,
            "overflow_y": null,
            "padding": null,
            "right": null,
            "top": null,
            "visibility": null,
            "width": null
          }
        },
        "d9ee5ccb2e714f7e95290ed7168016cf": {
          "model_module": "@jupyter-widgets/controls",
          "model_name": "ProgressStyleModel",
          "model_module_version": "1.5.0",
          "state": {
            "_model_module": "@jupyter-widgets/controls",
            "_model_module_version": "1.5.0",
            "_model_name": "ProgressStyleModel",
            "_view_count": null,
            "_view_module": "@jupyter-widgets/base",
            "_view_module_version": "1.2.0",
            "_view_name": "StyleView",
            "bar_color": null,
            "description_width": ""
          }
        },
        "ad9a54cbebc947e0ade4423928600106": {
          "model_module": "@jupyter-widgets/base",
          "model_name": "LayoutModel",
          "model_module_version": "1.2.0",
          "state": {
            "_model_module": "@jupyter-widgets/base",
            "_model_module_version": "1.2.0",
            "_model_name": "LayoutModel",
            "_view_count": null,
            "_view_module": "@jupyter-widgets/base",
            "_view_module_version": "1.2.0",
            "_view_name": "LayoutView",
            "align_content": null,
            "align_items": null,
            "align_self": null,
            "border": null,
            "bottom": null,
            "display": null,
            "flex": null,
            "flex_flow": null,
            "grid_area": null,
            "grid_auto_columns": null,
            "grid_auto_flow": null,
            "grid_auto_rows": null,
            "grid_column": null,
            "grid_gap": null,
            "grid_row": null,
            "grid_template_areas": null,
            "grid_template_columns": null,
            "grid_template_rows": null,
            "height": null,
            "justify_content": null,
            "justify_items": null,
            "left": null,
            "margin": null,
            "max_height": null,
            "max_width": null,
            "min_height": null,
            "min_width": null,
            "object_fit": null,
            "object_position": null,
            "order": null,
            "overflow": null,
            "overflow_x": null,
            "overflow_y": null,
            "padding": null,
            "right": null,
            "top": null,
            "visibility": null,
            "width": null
          }
        },
        "9d7daff2fea04cbb94e234a374a99a82": {
          "model_module": "@jupyter-widgets/controls",
          "model_name": "DescriptionStyleModel",
          "model_module_version": "1.5.0",
          "state": {
            "_model_module": "@jupyter-widgets/controls",
            "_model_module_version": "1.5.0",
            "_model_name": "DescriptionStyleModel",
            "_view_count": null,
            "_view_module": "@jupyter-widgets/base",
            "_view_module_version": "1.2.0",
            "_view_name": "StyleView",
            "description_width": ""
          }
        },
        "cf8bfd4ba1d54e7f93935df846df5935": {
          "model_module": "@jupyter-widgets/controls",
          "model_name": "HBoxModel",
          "model_module_version": "1.5.0",
          "state": {
            "_dom_classes": [],
            "_model_module": "@jupyter-widgets/controls",
            "_model_module_version": "1.5.0",
            "_model_name": "HBoxModel",
            "_view_count": null,
            "_view_module": "@jupyter-widgets/controls",
            "_view_module_version": "1.5.0",
            "_view_name": "HBoxView",
            "box_style": "",
            "children": [
              "IPY_MODEL_ab411822705e406dbf99faac267c40f3",
              "IPY_MODEL_1aeaf52701ec4a1b8c8b22681a8a1b60",
              "IPY_MODEL_d4e9ebd1078a4eed9cbb3a7d7d768e1a"
            ],
            "layout": "IPY_MODEL_57e6d65fea304c28a311f5e4e20e8a0d"
          }
        },
        "ab411822705e406dbf99faac267c40f3": {
          "model_module": "@jupyter-widgets/controls",
          "model_name": "HTMLModel",
          "model_module_version": "1.5.0",
          "state": {
            "_dom_classes": [],
            "_model_module": "@jupyter-widgets/controls",
            "_model_module_version": "1.5.0",
            "_model_name": "HTMLModel",
            "_view_count": null,
            "_view_module": "@jupyter-widgets/controls",
            "_view_module_version": "1.5.0",
            "_view_name": "HTMLView",
            "description": "",
            "description_tooltip": null,
            "layout": "IPY_MODEL_b68176b286f74b7ba27d341372c5dc55",
            "placeholder": "​",
            "style": "IPY_MODEL_924137f451d94cdca39c3aa783f45397",
            "value": "100%"
          }
        },
        "1aeaf52701ec4a1b8c8b22681a8a1b60": {
          "model_module": "@jupyter-widgets/controls",
          "model_name": "FloatProgressModel",
          "model_module_version": "1.5.0",
          "state": {
            "_dom_classes": [],
            "_model_module": "@jupyter-widgets/controls",
            "_model_module_version": "1.5.0",
            "_model_name": "FloatProgressModel",
            "_view_count": null,
            "_view_module": "@jupyter-widgets/controls",
            "_view_module_version": "1.5.0",
            "_view_name": "ProgressView",
            "bar_style": "success",
            "description": "",
            "description_tooltip": null,
            "layout": "IPY_MODEL_53e79784cdaf430c88e3bcc200470964",
            "max": 66,
            "min": 0,
            "orientation": "horizontal",
            "style": "IPY_MODEL_06c62a560dbe4c4cbe72df1805df4360",
            "value": 66
          }
        },
        "d4e9ebd1078a4eed9cbb3a7d7d768e1a": {
          "model_module": "@jupyter-widgets/controls",
          "model_name": "HTMLModel",
          "model_module_version": "1.5.0",
          "state": {
            "_dom_classes": [],
            "_model_module": "@jupyter-widgets/controls",
            "_model_module_version": "1.5.0",
            "_model_name": "HTMLModel",
            "_view_count": null,
            "_view_module": "@jupyter-widgets/controls",
            "_view_module_version": "1.5.0",
            "_view_name": "HTMLView",
            "description": "",
            "description_tooltip": null,
            "layout": "IPY_MODEL_24aaec224a4a490c83ffda11984268f2",
            "placeholder": "​",
            "style": "IPY_MODEL_483a5c8685c54c7cbffba98c81586078",
            "value": " 66/66 [00:00&lt;00:00, 459.01it/s]"
          }
        },
        "57e6d65fea304c28a311f5e4e20e8a0d": {
          "model_module": "@jupyter-widgets/base",
          "model_name": "LayoutModel",
          "model_module_version": "1.2.0",
          "state": {
            "_model_module": "@jupyter-widgets/base",
            "_model_module_version": "1.2.0",
            "_model_name": "LayoutModel",
            "_view_count": null,
            "_view_module": "@jupyter-widgets/base",
            "_view_module_version": "1.2.0",
            "_view_name": "LayoutView",
            "align_content": null,
            "align_items": null,
            "align_self": null,
            "border": null,
            "bottom": null,
            "display": null,
            "flex": null,
            "flex_flow": null,
            "grid_area": null,
            "grid_auto_columns": null,
            "grid_auto_flow": null,
            "grid_auto_rows": null,
            "grid_column": null,
            "grid_gap": null,
            "grid_row": null,
            "grid_template_areas": null,
            "grid_template_columns": null,
            "grid_template_rows": null,
            "height": null,
            "justify_content": null,
            "justify_items": null,
            "left": null,
            "margin": null,
            "max_height": null,
            "max_width": null,
            "min_height": null,
            "min_width": null,
            "object_fit": null,
            "object_position": null,
            "order": null,
            "overflow": null,
            "overflow_x": null,
            "overflow_y": null,
            "padding": null,
            "right": null,
            "top": null,
            "visibility": null,
            "width": null
          }
        },
        "b68176b286f74b7ba27d341372c5dc55": {
          "model_module": "@jupyter-widgets/base",
          "model_name": "LayoutModel",
          "model_module_version": "1.2.0",
          "state": {
            "_model_module": "@jupyter-widgets/base",
            "_model_module_version": "1.2.0",
            "_model_name": "LayoutModel",
            "_view_count": null,
            "_view_module": "@jupyter-widgets/base",
            "_view_module_version": "1.2.0",
            "_view_name": "LayoutView",
            "align_content": null,
            "align_items": null,
            "align_self": null,
            "border": null,
            "bottom": null,
            "display": null,
            "flex": null,
            "flex_flow": null,
            "grid_area": null,
            "grid_auto_columns": null,
            "grid_auto_flow": null,
            "grid_auto_rows": null,
            "grid_column": null,
            "grid_gap": null,
            "grid_row": null,
            "grid_template_areas": null,
            "grid_template_columns": null,
            "grid_template_rows": null,
            "height": null,
            "justify_content": null,
            "justify_items": null,
            "left": null,
            "margin": null,
            "max_height": null,
            "max_width": null,
            "min_height": null,
            "min_width": null,
            "object_fit": null,
            "object_position": null,
            "order": null,
            "overflow": null,
            "overflow_x": null,
            "overflow_y": null,
            "padding": null,
            "right": null,
            "top": null,
            "visibility": null,
            "width": null
          }
        },
        "924137f451d94cdca39c3aa783f45397": {
          "model_module": "@jupyter-widgets/controls",
          "model_name": "DescriptionStyleModel",
          "model_module_version": "1.5.0",
          "state": {
            "_model_module": "@jupyter-widgets/controls",
            "_model_module_version": "1.5.0",
            "_model_name": "DescriptionStyleModel",
            "_view_count": null,
            "_view_module": "@jupyter-widgets/base",
            "_view_module_version": "1.2.0",
            "_view_name": "StyleView",
            "description_width": ""
          }
        },
        "53e79784cdaf430c88e3bcc200470964": {
          "model_module": "@jupyter-widgets/base",
          "model_name": "LayoutModel",
          "model_module_version": "1.2.0",
          "state": {
            "_model_module": "@jupyter-widgets/base",
            "_model_module_version": "1.2.0",
            "_model_name": "LayoutModel",
            "_view_count": null,
            "_view_module": "@jupyter-widgets/base",
            "_view_module_version": "1.2.0",
            "_view_name": "LayoutView",
            "align_content": null,
            "align_items": null,
            "align_self": null,
            "border": null,
            "bottom": null,
            "display": null,
            "flex": null,
            "flex_flow": null,
            "grid_area": null,
            "grid_auto_columns": null,
            "grid_auto_flow": null,
            "grid_auto_rows": null,
            "grid_column": null,
            "grid_gap": null,
            "grid_row": null,
            "grid_template_areas": null,
            "grid_template_columns": null,
            "grid_template_rows": null,
            "height": null,
            "justify_content": null,
            "justify_items": null,
            "left": null,
            "margin": null,
            "max_height": null,
            "max_width": null,
            "min_height": null,
            "min_width": null,
            "object_fit": null,
            "object_position": null,
            "order": null,
            "overflow": null,
            "overflow_x": null,
            "overflow_y": null,
            "padding": null,
            "right": null,
            "top": null,
            "visibility": null,
            "width": null
          }
        },
        "06c62a560dbe4c4cbe72df1805df4360": {
          "model_module": "@jupyter-widgets/controls",
          "model_name": "ProgressStyleModel",
          "model_module_version": "1.5.0",
          "state": {
            "_model_module": "@jupyter-widgets/controls",
            "_model_module_version": "1.5.0",
            "_model_name": "ProgressStyleModel",
            "_view_count": null,
            "_view_module": "@jupyter-widgets/base",
            "_view_module_version": "1.2.0",
            "_view_name": "StyleView",
            "bar_color": null,
            "description_width": ""
          }
        },
        "24aaec224a4a490c83ffda11984268f2": {
          "model_module": "@jupyter-widgets/base",
          "model_name": "LayoutModel",
          "model_module_version": "1.2.0",
          "state": {
            "_model_module": "@jupyter-widgets/base",
            "_model_module_version": "1.2.0",
            "_model_name": "LayoutModel",
            "_view_count": null,
            "_view_module": "@jupyter-widgets/base",
            "_view_module_version": "1.2.0",
            "_view_name": "LayoutView",
            "align_content": null,
            "align_items": null,
            "align_self": null,
            "border": null,
            "bottom": null,
            "display": null,
            "flex": null,
            "flex_flow": null,
            "grid_area": null,
            "grid_auto_columns": null,
            "grid_auto_flow": null,
            "grid_auto_rows": null,
            "grid_column": null,
            "grid_gap": null,
            "grid_row": null,
            "grid_template_areas": null,
            "grid_template_columns": null,
            "grid_template_rows": null,
            "height": null,
            "justify_content": null,
            "justify_items": null,
            "left": null,
            "margin": null,
            "max_height": null,
            "max_width": null,
            "min_height": null,
            "min_width": null,
            "object_fit": null,
            "object_position": null,
            "order": null,
            "overflow": null,
            "overflow_x": null,
            "overflow_y": null,
            "padding": null,
            "right": null,
            "top": null,
            "visibility": null,
            "width": null
          }
        },
        "483a5c8685c54c7cbffba98c81586078": {
          "model_module": "@jupyter-widgets/controls",
          "model_name": "DescriptionStyleModel",
          "model_module_version": "1.5.0",
          "state": {
            "_model_module": "@jupyter-widgets/controls",
            "_model_module_version": "1.5.0",
            "_model_name": "DescriptionStyleModel",
            "_view_count": null,
            "_view_module": "@jupyter-widgets/base",
            "_view_module_version": "1.2.0",
            "_view_name": "StyleView",
            "description_width": ""
          }
        }
      }
    }
  },
  "nbformat": 4,
  "nbformat_minor": 5
}